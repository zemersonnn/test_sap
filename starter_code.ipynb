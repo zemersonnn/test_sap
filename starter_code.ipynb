{
 "cells": [
  {
   "cell_type": "code",
   "execution_count": 2,
   "metadata": {},
   "outputs": [],
   "source": [
    "import pandas as pd"
   ]
  },
  {
   "cell_type": "code",
   "execution_count": 6,
   "metadata": {},
   "outputs": [
    {
     "name": "stdout",
     "output_type": "stream",
     "text": [
      "Collecting xlrd\n",
      "  Obtaining dependency information for xlrd from https://files.pythonhosted.org/packages/a6/0c/c2a72d51fe56e08a08acc85d13013558a2d793028ae7385448a6ccdfae64/xlrd-2.0.1-py2.py3-none-any.whl.metadata\n",
      "  Downloading xlrd-2.0.1-py2.py3-none-any.whl.metadata (3.4 kB)\n",
      "Downloading xlrd-2.0.1-py2.py3-none-any.whl (96 kB)\n",
      "   ---------------------------------------- 0.0/96.5 kB ? eta -:--:--\n",
      "   ---- ----------------------------------- 10.2/96.5 kB ? eta -:--:--\n",
      "   ------------ --------------------------- 30.7/96.5 kB 640.0 kB/s eta 0:00:01\n",
      "   --------------------- ------------------ 51.2/96.5 kB 871.5 kB/s eta 0:00:01\n",
      "   ---------------------------------------- 96.5/96.5 kB 690.3 kB/s eta 0:00:00\n",
      "Installing collected packages: xlrd\n",
      "Successfully installed xlrd-2.0.1\n",
      "Note: you may need to restart the kernel to use updated packages.\n"
     ]
    }
   ],
   "source": [
    "pip install xlrd"
   ]
  },
  {
   "cell_type": "markdown",
   "metadata": {},
   "source": [
    "pip install openpyxl"
   ]
  },
  {
   "cell_type": "code",
   "execution_count": 14,
   "metadata": {},
   "outputs": [
    {
     "name": "stdout",
     "output_type": "stream",
     "text": [
      "   Plant  Store_Type  Material    Description Batch  Total_Quantity   \\\n",
      "0      1          12     12345  description 1  EA1C              100   \n",
      "1      2          10     54123  description 1  EL2A              -80   \n",
      "2      1          11     12121  description 1  EA1C               90   \n",
      "3      2          12     33302  description 2  EA2C             -100   \n",
      "4      1          13     14521  description 1  EA1C               30   \n",
      "5      1          10     36520  description 1  EA1C               45   \n",
      "6      2           9     12345  description 2  EA2C               90   \n",
      "7      2           8     54123  description 2  EA2C               30   \n",
      "8      1           7     54123  description 1  EA1C              -10   \n",
      "9      1           5     33302  description 1  EA1C               10   \n",
      "\n",
      "   Costing_Lot_Size  Storage_Bin Expiration_Date Product_Date  Total_Value  \n",
      "0               200        12345      2023-06-15   2023-07-14          500  \n",
      "1               300        54120      2023-07-16   2022-07-25          600  \n",
      "2               200        78541      2024-08-21   1999-08-10          100  \n",
      "3               150        12345      2021-08-10   2012-09-10          400  \n",
      "4                20        54120      2021-07-06   2010-06-10          100  \n",
      "5                60        78784      2022-02-21   2014-06-15           50  \n",
      "6                78        21452      2023-08-05   2025-06-12           50  \n",
      "7                20        23652      2026-05-05   2021-03-15          100  \n",
      "8                30        12345      2000-06-15   2000-05-15          200  \n",
      "9                40        54123      2015-07-10   2011-06-12           30  \n"
     ]
    }
   ],
   "source": [
    "# import excel file \n",
    "df = pd.read_excel(\"fake_sap.xlsx\")\n",
    "print(df)"
   ]
  }
 ],
 "metadata": {
  "kernelspec": {
   "display_name": "dev",
   "language": "python",
   "name": "python3"
  },
  "language_info": {
   "codemirror_mode": {
    "name": "ipython",
    "version": 3
   },
   "file_extension": ".py",
   "mimetype": "text/x-python",
   "name": "python",
   "nbconvert_exporter": "python",
   "pygments_lexer": "ipython3",
   "version": "3.10.13"
  }
 },
 "nbformat": 4,
 "nbformat_minor": 2
}
